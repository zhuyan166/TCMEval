{
 "cells": [
  {
   "cell_type": "code",
   "execution_count": 1,
   "id": "fb3948a4",
   "metadata": {},
   "outputs": [
    {
     "name": "stderr",
     "output_type": "stream",
     "text": [
      "单选 处理中: 297it [09:24,  1.90s/it]\n",
      "多选 处理中: 31it [02:40,  5.17s/it]"
     ]
    },
    {
     "name": "stdout",
     "output_type": "stream",
     "text": [
      "✅ 处理完成，结果已保存到： GPT模型结果_new.xlsx\n"
     ]
    },
    {
     "name": "stderr",
     "output_type": "stream",
     "text": [
      "\n"
     ]
    }
   ],
   "source": [
    "import pandas as pd\n",
    "import requests\n",
    "from tqdm import tqdm\n",
    "\n",
    "# ========== 配置 ==========\n",
    "API_KEY = \"\" #这里是key位置\n",
    "API_URL = \"\" #这里是URL位置\n",
    "\n",
    "INPUT_FILE  = \"合理用药数据集v4.1-测试用.xlsx\"\n",
    "OUTPUT_FILE = \"GPT模型结果_new.xlsx\"\n",
    "\n",
    "PROMPTS = {\n",
    "    \"单选\": \"以下是关于中药处方审核的单选题，请根据规则选择正确的选项。仅输出选项即可。\",\n",
    "    \"多选\": \"以下是关于中药处方审核的多选题，请根据规则选择所有正确的选项。仅输出选项即可。\"\n",
    "}\n",
    "\n",
    "# ========== 通用调用函数 ==========\n",
    "def call_gpt(prompt: str, question: str, candidate_answers: str) -> str:\n",
    "    headers = {\n",
    "        \"Content-Type\": \"application/json\",\n",
    "        \"Authorization\": f\"Bearer {API_KEY}\"\n",
    "    }\n",
    "    payload = {\n",
    "        \"model\": \"gpt-4o\", \n",
    "        \"messages\": [\n",
    "            {\"role\": \"system\", \"content\": prompt},\n",
    "            {\"role\": \"user\",   \"content\": f\"题目：{question}\\n选项：{candidate_answers}\"}\n",
    "        ],\n",
    "        \"max_tokens\": 8,\n",
    "        \"temperature\": 0\n",
    "    }\n",
    "    try:\n",
    "        resp = requests.post(API_URL, headers=headers, json=payload, timeout=30)\n",
    "        resp.raise_for_status()\n",
    "        return resp.json()[\"choices\"][0][\"message\"][\"content\"].strip()\n",
    "    except Exception as e:\n",
    "        print(f\"API Error: {e}\")\n",
    "        return \"Error\"\n",
    "\n",
    "# ========== 主流程 ==========\n",
    "xls = pd.ExcelFile(INPUT_FILE)\n",
    "\n",
    "with pd.ExcelWriter(OUTPUT_FILE) as writer:\n",
    "    for sheet in [\"单选\", \"多选\"]:\n",
    "        if sheet not in xls.sheet_names:\n",
    "            print(f\"⚠️ 找不到工作表：{sheet}，跳过\")\n",
    "            continue\n",
    "\n",
    "        df = pd.read_excel(xls, sheet_name=sheet)\n",
    "        prompt = PROMPTS[sheet]\n",
    "\n",
    "        model_answers = []\n",
    "        for _, row in tqdm(df.iterrows(), desc=f\"{sheet} 处理中\"):\n",
    "            question = row[\"Question\"]\n",
    "            candidate_answers = row[\"Candidate answers\"]\n",
    "            ans = call_gpt(prompt, question, candidate_answers)\n",
    "            # 简单清洗：去掉解释，只保留选项\n",
    "            ans = \"\".join(c for c in ans if c in \"ABCDEFGHIJKLMNOPQRSTUVWXYZ、，, \")\n",
    "            ans = ans.replace(\"，\", \"、\").replace(\",\", \"、\").strip()\n",
    "            model_answers.append(ans)\n",
    "\n",
    "        df[\"模型答案\"] = model_answers\n",
    "        df.to_excel(writer, sheet_name=sheet, index=False)\n",
    "\n",
    "print(\"✅ 处理完成，结果已保存到：\", OUTPUT_FILE)"
   ]
  },
  {
   "cell_type": "code",
   "execution_count": 2,
   "id": "de0176cb",
   "metadata": {},
   "outputs": [
    {
     "name": "stdout",
     "output_type": "stream",
     "text": [
      "清洗完成 → GPT模型结果_new_清洗后.xlsx\n"
     ]
    }
   ],
   "source": [
    "import pandas as pd\n",
    "import re\n",
    "\n",
    "INPUT_FILE = \"GPT模型结果_new.xlsx\"\n",
    "OUTPUT_FILE = \"GPT模型结果_new_清洗后.xlsx\"\n",
    "\n",
    "def clean_answer(ans):\n",
    "    \"\"\"清洗模型答案\"\"\"\n",
    "    if pd.isna(ans):\n",
    "        return \"\"\n",
    "    # 提取所有大写字母\n",
    "    letters = re.findall(r\"[A-Z]\", str(ans).upper())\n",
    "    if len(letters) == 1:\n",
    "        return letters[0]         \n",
    "    return \" \".join(letters)       \n",
    "\n",
    "# 读取\n",
    "xls = pd.ExcelFile(INPUT_FILE)\n",
    "\n",
    "with pd.ExcelWriter(OUTPUT_FILE) as writer:\n",
    "    for sheet in xls.sheet_names:\n",
    "        df = pd.read_excel(xls, sheet_name=sheet)\n",
    "        if \"模型答案\" in df.columns:\n",
    "            df[\"模型答案\"] = df[\"模型答案\"].apply(clean_answer)\n",
    "        df.to_excel(writer, sheet_name=sheet, index=False)\n",
    "\n",
    "print(\"清洗完成 →\", OUTPUT_FILE)"
   ]
  },
  {
   "cell_type": "code",
   "execution_count": null,
   "id": "3b7fd9ae",
   "metadata": {},
   "outputs": [],
   "source": []
  }
 ],
 "metadata": {
  "kernelspec": {
   "display_name": "Python 3 (ipykernel)",
   "language": "python",
   "name": "python3"
  },
  "language_info": {
   "codemirror_mode": {
    "name": "ipython",
    "version": 3
   },
   "file_extension": ".py",
   "mimetype": "text/x-python",
   "name": "python",
   "nbconvert_exporter": "python",
   "pygments_lexer": "ipython3",
   "version": "3.11.5"
  }
 },
 "nbformat": 4,
 "nbformat_minor": 5
}
